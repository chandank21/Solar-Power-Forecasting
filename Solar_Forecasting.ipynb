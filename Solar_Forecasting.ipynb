{
 "cells": [
  {
   "cell_type": "code",
   "execution_count": 29,
   "id": "0e6d8ca8",
   "metadata": {},
   "outputs": [],
   "source": [
    "import numpy as np\n",
    "import pandas as pd"
   ]
  },
  {
   "cell_type": "code",
   "execution_count": 30,
   "id": "4aabe553",
   "metadata": {},
   "outputs": [],
   "source": [
    "def load_data():\n",
    "    raw_df = []\n",
    "    dict_df = pd.read_excel(r'C:\\Users\\SR-19\\Desktop\\Analog_Reports\\Solar data\\GridTieInverterData.xlsx',skiprows=5,parse_dates={'Time':[2]},index_col='Time',skipfooter=1,sheet_name=None)\n",
    "    for key,dframe in dict_df.items():\n",
    "        dframe.drop(dframe.tail(1).index,inplace=True)\n",
    "        raw_df.append(dframe[['PDC(W)']])\n",
    "    raw_df=pd.concat(raw_df)\n",
    "    raw_df.index=pd.to_datetime(raw_df.index,format='%Y-%m-%d %H:%M:%S')\n",
    "    raw_df.sort_index(inplace=True,ascending=False)\n",
    "    return raw_df"
   ]
  },
  {
   "cell_type": "code",
   "execution_count": 109,
   "id": "123c623a",
   "metadata": {},
   "outputs": [],
   "source": [
    "def load_weather():\n",
    "    weather = pd.read_csv(r'C:\\Users\\SR-19\\Desktop\\Analog_Reports\\kanpur_weather_solar.csv',\n",
    "                             header=26)\n",
    "    LIST=[]\n",
    "    for i in range(weather.shape[0]):\n",
    "        if weather.HR.values[i] < 10:\n",
    "            string = f\"{weather.YEAR.values[i]}-{weather.MO.values[i]}-{weather.DY.values[i]} {0}{weather.HR.values[i]}\"\n",
    "        else:\n",
    "            string = f\"{weather.YEAR.values[i]}-{weather.MO.values[i]}-{weather.DY.values[i]} {weather.HR.values[i]}\"\n",
    "\n",
    "        LIST.append(pd.to_datetime(string,format='%Y-%m-%d %H'))\n",
    "\n",
    "    weather['time']=LIST\n",
    "    weather=weather.set_index(weather['time'],drop=False)\n",
    "    weather.drop(['YEAR','MO','DY','HR','time'],axis=1,inplace=True)\n",
    "    return weather"
   ]
  },
  {
   "cell_type": "code",
   "execution_count": 31,
   "id": "1162fbaf",
   "metadata": {},
   "outputs": [],
   "source": [
    "raw_df= load_data()"
   ]
  },
  {
   "cell_type": "code",
   "execution_count": 32,
   "id": "530ab38e",
   "metadata": {},
   "outputs": [],
   "source": [
    "def clean_data(df):\n",
    "    df['datetime'] = [str(index)[0:13] for index in df.index.values]\n",
    "    df = df.groupby('datetime').mean()\n",
    "    df.index=pd.to_datetime(df.index,format='%Y-%m-%d %H')\n",
    "    return df"
   ]
  },
  {
   "cell_type": "code",
   "execution_count": null,
   "id": "3f79ac51",
   "metadata": {},
   "outputs": [],
   "source": [
    "def fill_missing(df):\n",
    "    start,end=raw_df.index[0],raw_df.index[-1]\n",
    "    index=pd.date_range(start=start,end=end,freq='1H')\n",
    "    t_df=pd.DataFrame({'val':np.NaN},index=index)\n",
    "    result = raw_df.join(t_df, how=\"outer\").drop(['val'],axis=1)\n",
    "    zero_pow = [19,20,21,22,23,0,1,2,3,4]\n",
    "    for index in result.index:\n",
    "        if index.hour in zero_pow:\n",
    "            result.loc[index]=0\n",
    "    return result"
   ]
  },
  {
   "cell_type": "code",
   "execution_count": 104,
   "id": "7a2b1ec9",
   "metadata": {},
   "outputs": [],
   "source": [
    "missing_index=result[result['PDC(W)'].isna()].index.to_list()"
   ]
  },
  {
   "cell_type": "code",
   "execution_count": 105,
   "id": "37254b7f",
   "metadata": {},
   "outputs": [],
   "source": [
    "dff=result.dropna(axis=0,inplace=False)"
   ]
  },
  {
   "cell_type": "code",
   "execution_count": 110,
   "id": "3f1fa099",
   "metadata": {},
   "outputs": [],
   "source": [
    "weather_df=load_weather()"
   ]
  },
  {
   "cell_type": "code",
   "execution_count": 111,
   "id": "714e3a5d",
   "metadata": {},
   "outputs": [
    {
     "data": {
      "text/html": [
       "<div>\n",
       "<style scoped>\n",
       "    .dataframe tbody tr th:only-of-type {\n",
       "        vertical-align: middle;\n",
       "    }\n",
       "\n",
       "    .dataframe tbody tr th {\n",
       "        vertical-align: top;\n",
       "    }\n",
       "\n",
       "    .dataframe thead th {\n",
       "        text-align: right;\n",
       "    }\n",
       "</style>\n",
       "<table border=\"1\" class=\"dataframe\">\n",
       "  <thead>\n",
       "    <tr style=\"text-align: right;\">\n",
       "      <th></th>\n",
       "      <th>ALLSKY_SFC_SW_DWN</th>\n",
       "      <th>CLRSKY_SFC_SW_DWN</th>\n",
       "      <th>ALLSKY_SRF_ALB</th>\n",
       "      <th>SZA</th>\n",
       "      <th>ALLSKY_SFC_PAR_TOT</th>\n",
       "      <th>CLRSKY_SFC_PAR_TOT</th>\n",
       "      <th>ALLSKY_SFC_UVA</th>\n",
       "      <th>ALLSKY_SFC_UVB</th>\n",
       "      <th>ALLSKY_SFC_UV_INDEX</th>\n",
       "      <th>T2M</th>\n",
       "      <th>T2MDEW</th>\n",
       "      <th>T2MWET</th>\n",
       "      <th>QV2M</th>\n",
       "      <th>RH2M</th>\n",
       "      <th>PRECTOTCORR</th>\n",
       "      <th>PS</th>\n",
       "      <th>WS10M</th>\n",
       "      <th>WD10M</th>\n",
       "    </tr>\n",
       "    <tr>\n",
       "      <th>time</th>\n",
       "      <th></th>\n",
       "      <th></th>\n",
       "      <th></th>\n",
       "      <th></th>\n",
       "      <th></th>\n",
       "      <th></th>\n",
       "      <th></th>\n",
       "      <th></th>\n",
       "      <th></th>\n",
       "      <th></th>\n",
       "      <th></th>\n",
       "      <th></th>\n",
       "      <th></th>\n",
       "      <th></th>\n",
       "      <th></th>\n",
       "      <th></th>\n",
       "      <th></th>\n",
       "      <th></th>\n",
       "    </tr>\n",
       "  </thead>\n",
       "  <tbody>\n",
       "    <tr>\n",
       "      <th>2021-01-01 00:00:00</th>\n",
       "      <td>0.0</td>\n",
       "      <td>0.0</td>\n",
       "      <td>-999.0</td>\n",
       "      <td>-999.0</td>\n",
       "      <td>0.0</td>\n",
       "      <td>0.0</td>\n",
       "      <td>0.0</td>\n",
       "      <td>0.0</td>\n",
       "      <td>0.0</td>\n",
       "      <td>9.80</td>\n",
       "      <td>-2.81</td>\n",
       "      <td>3.50</td>\n",
       "      <td>3.11</td>\n",
       "      <td>40.94</td>\n",
       "      <td>0.0</td>\n",
       "      <td>100.23</td>\n",
       "      <td>2.99</td>\n",
       "      <td>317.86</td>\n",
       "    </tr>\n",
       "    <tr>\n",
       "      <th>2021-01-01 01:00:00</th>\n",
       "      <td>0.0</td>\n",
       "      <td>0.0</td>\n",
       "      <td>-999.0</td>\n",
       "      <td>-999.0</td>\n",
       "      <td>0.0</td>\n",
       "      <td>0.0</td>\n",
       "      <td>0.0</td>\n",
       "      <td>0.0</td>\n",
       "      <td>0.0</td>\n",
       "      <td>9.29</td>\n",
       "      <td>-3.38</td>\n",
       "      <td>2.95</td>\n",
       "      <td>2.93</td>\n",
       "      <td>40.50</td>\n",
       "      <td>0.0</td>\n",
       "      <td>100.21</td>\n",
       "      <td>3.01</td>\n",
       "      <td>322.48</td>\n",
       "    </tr>\n",
       "    <tr>\n",
       "      <th>2021-01-01 02:00:00</th>\n",
       "      <td>0.0</td>\n",
       "      <td>0.0</td>\n",
       "      <td>-999.0</td>\n",
       "      <td>-999.0</td>\n",
       "      <td>0.0</td>\n",
       "      <td>0.0</td>\n",
       "      <td>0.0</td>\n",
       "      <td>0.0</td>\n",
       "      <td>0.0</td>\n",
       "      <td>8.80</td>\n",
       "      <td>-3.90</td>\n",
       "      <td>2.45</td>\n",
       "      <td>2.81</td>\n",
       "      <td>40.19</td>\n",
       "      <td>0.0</td>\n",
       "      <td>100.19</td>\n",
       "      <td>2.94</td>\n",
       "      <td>325.30</td>\n",
       "    </tr>\n",
       "    <tr>\n",
       "      <th>2021-01-01 03:00:00</th>\n",
       "      <td>0.0</td>\n",
       "      <td>0.0</td>\n",
       "      <td>-999.0</td>\n",
       "      <td>-999.0</td>\n",
       "      <td>0.0</td>\n",
       "      <td>0.0</td>\n",
       "      <td>0.0</td>\n",
       "      <td>0.0</td>\n",
       "      <td>0.0</td>\n",
       "      <td>8.38</td>\n",
       "      <td>-4.27</td>\n",
       "      <td>2.06</td>\n",
       "      <td>2.75</td>\n",
       "      <td>40.12</td>\n",
       "      <td>0.0</td>\n",
       "      <td>100.18</td>\n",
       "      <td>2.74</td>\n",
       "      <td>326.99</td>\n",
       "    </tr>\n",
       "    <tr>\n",
       "      <th>2021-01-01 04:00:00</th>\n",
       "      <td>0.0</td>\n",
       "      <td>0.0</td>\n",
       "      <td>-999.0</td>\n",
       "      <td>-999.0</td>\n",
       "      <td>0.0</td>\n",
       "      <td>0.0</td>\n",
       "      <td>0.0</td>\n",
       "      <td>0.0</td>\n",
       "      <td>0.0</td>\n",
       "      <td>8.19</td>\n",
       "      <td>-4.61</td>\n",
       "      <td>1.79</td>\n",
       "      <td>2.69</td>\n",
       "      <td>39.62</td>\n",
       "      <td>0.0</td>\n",
       "      <td>100.22</td>\n",
       "      <td>2.45</td>\n",
       "      <td>325.91</td>\n",
       "    </tr>\n",
       "    <tr>\n",
       "      <th>...</th>\n",
       "      <td>...</td>\n",
       "      <td>...</td>\n",
       "      <td>...</td>\n",
       "      <td>...</td>\n",
       "      <td>...</td>\n",
       "      <td>...</td>\n",
       "      <td>...</td>\n",
       "      <td>...</td>\n",
       "      <td>...</td>\n",
       "      <td>...</td>\n",
       "      <td>...</td>\n",
       "      <td>...</td>\n",
       "      <td>...</td>\n",
       "      <td>...</td>\n",
       "      <td>...</td>\n",
       "      <td>...</td>\n",
       "      <td>...</td>\n",
       "      <td>...</td>\n",
       "    </tr>\n",
       "    <tr>\n",
       "      <th>2021-12-31 19:00:00</th>\n",
       "      <td>-999.0</td>\n",
       "      <td>-999.0</td>\n",
       "      <td>-999.0</td>\n",
       "      <td>-999.0</td>\n",
       "      <td>-999.0</td>\n",
       "      <td>-999.0</td>\n",
       "      <td>-999.0</td>\n",
       "      <td>-999.0</td>\n",
       "      <td>-999.0</td>\n",
       "      <td>10.56</td>\n",
       "      <td>9.00</td>\n",
       "      <td>9.78</td>\n",
       "      <td>7.14</td>\n",
       "      <td>90.19</td>\n",
       "      <td>0.0</td>\n",
       "      <td>100.79</td>\n",
       "      <td>2.53</td>\n",
       "      <td>259.70</td>\n",
       "    </tr>\n",
       "    <tr>\n",
       "      <th>2021-12-31 20:00:00</th>\n",
       "      <td>-999.0</td>\n",
       "      <td>-999.0</td>\n",
       "      <td>-999.0</td>\n",
       "      <td>-999.0</td>\n",
       "      <td>-999.0</td>\n",
       "      <td>-999.0</td>\n",
       "      <td>-999.0</td>\n",
       "      <td>-999.0</td>\n",
       "      <td>-999.0</td>\n",
       "      <td>10.04</td>\n",
       "      <td>8.61</td>\n",
       "      <td>9.32</td>\n",
       "      <td>6.96</td>\n",
       "      <td>90.94</td>\n",
       "      <td>0.0</td>\n",
       "      <td>100.84</td>\n",
       "      <td>2.66</td>\n",
       "      <td>262.58</td>\n",
       "    </tr>\n",
       "    <tr>\n",
       "      <th>2021-12-31 21:00:00</th>\n",
       "      <td>-999.0</td>\n",
       "      <td>-999.0</td>\n",
       "      <td>-999.0</td>\n",
       "      <td>-999.0</td>\n",
       "      <td>-999.0</td>\n",
       "      <td>-999.0</td>\n",
       "      <td>-999.0</td>\n",
       "      <td>-999.0</td>\n",
       "      <td>-999.0</td>\n",
       "      <td>9.15</td>\n",
       "      <td>7.95</td>\n",
       "      <td>8.55</td>\n",
       "      <td>6.65</td>\n",
       "      <td>92.38</td>\n",
       "      <td>0.0</td>\n",
       "      <td>100.88</td>\n",
       "      <td>2.82</td>\n",
       "      <td>265.71</td>\n",
       "    </tr>\n",
       "    <tr>\n",
       "      <th>2021-12-31 22:00:00</th>\n",
       "      <td>-999.0</td>\n",
       "      <td>-999.0</td>\n",
       "      <td>-999.0</td>\n",
       "      <td>-999.0</td>\n",
       "      <td>-999.0</td>\n",
       "      <td>-999.0</td>\n",
       "      <td>-999.0</td>\n",
       "      <td>-999.0</td>\n",
       "      <td>-999.0</td>\n",
       "      <td>9.20</td>\n",
       "      <td>7.87</td>\n",
       "      <td>8.54</td>\n",
       "      <td>6.59</td>\n",
       "      <td>91.44</td>\n",
       "      <td>0.0</td>\n",
       "      <td>100.85</td>\n",
       "      <td>2.50</td>\n",
       "      <td>271.25</td>\n",
       "    </tr>\n",
       "    <tr>\n",
       "      <th>2021-12-31 23:00:00</th>\n",
       "      <td>-999.0</td>\n",
       "      <td>-999.0</td>\n",
       "      <td>-999.0</td>\n",
       "      <td>-999.0</td>\n",
       "      <td>-999.0</td>\n",
       "      <td>-999.0</td>\n",
       "      <td>-999.0</td>\n",
       "      <td>-999.0</td>\n",
       "      <td>-999.0</td>\n",
       "      <td>9.26</td>\n",
       "      <td>7.89</td>\n",
       "      <td>8.57</td>\n",
       "      <td>6.59</td>\n",
       "      <td>91.31</td>\n",
       "      <td>0.0</td>\n",
       "      <td>100.78</td>\n",
       "      <td>2.18</td>\n",
       "      <td>280.34</td>\n",
       "    </tr>\n",
       "  </tbody>\n",
       "</table>\n",
       "<p>8760 rows × 18 columns</p>\n",
       "</div>"
      ],
      "text/plain": [
       "                     ALLSKY_SFC_SW_DWN  CLRSKY_SFC_SW_DWN  ALLSKY_SRF_ALB  \\\n",
       "time                                                                        \n",
       "2021-01-01 00:00:00                0.0                0.0          -999.0   \n",
       "2021-01-01 01:00:00                0.0                0.0          -999.0   \n",
       "2021-01-01 02:00:00                0.0                0.0          -999.0   \n",
       "2021-01-01 03:00:00                0.0                0.0          -999.0   \n",
       "2021-01-01 04:00:00                0.0                0.0          -999.0   \n",
       "...                                ...                ...             ...   \n",
       "2021-12-31 19:00:00             -999.0             -999.0          -999.0   \n",
       "2021-12-31 20:00:00             -999.0             -999.0          -999.0   \n",
       "2021-12-31 21:00:00             -999.0             -999.0          -999.0   \n",
       "2021-12-31 22:00:00             -999.0             -999.0          -999.0   \n",
       "2021-12-31 23:00:00             -999.0             -999.0          -999.0   \n",
       "\n",
       "                       SZA  ALLSKY_SFC_PAR_TOT  CLRSKY_SFC_PAR_TOT  \\\n",
       "time                                                                 \n",
       "2021-01-01 00:00:00 -999.0                 0.0                 0.0   \n",
       "2021-01-01 01:00:00 -999.0                 0.0                 0.0   \n",
       "2021-01-01 02:00:00 -999.0                 0.0                 0.0   \n",
       "2021-01-01 03:00:00 -999.0                 0.0                 0.0   \n",
       "2021-01-01 04:00:00 -999.0                 0.0                 0.0   \n",
       "...                    ...                 ...                 ...   \n",
       "2021-12-31 19:00:00 -999.0              -999.0              -999.0   \n",
       "2021-12-31 20:00:00 -999.0              -999.0              -999.0   \n",
       "2021-12-31 21:00:00 -999.0              -999.0              -999.0   \n",
       "2021-12-31 22:00:00 -999.0              -999.0              -999.0   \n",
       "2021-12-31 23:00:00 -999.0              -999.0              -999.0   \n",
       "\n",
       "                     ALLSKY_SFC_UVA  ALLSKY_SFC_UVB  ALLSKY_SFC_UV_INDEX  \\\n",
       "time                                                                       \n",
       "2021-01-01 00:00:00             0.0             0.0                  0.0   \n",
       "2021-01-01 01:00:00             0.0             0.0                  0.0   \n",
       "2021-01-01 02:00:00             0.0             0.0                  0.0   \n",
       "2021-01-01 03:00:00             0.0             0.0                  0.0   \n",
       "2021-01-01 04:00:00             0.0             0.0                  0.0   \n",
       "...                             ...             ...                  ...   \n",
       "2021-12-31 19:00:00          -999.0          -999.0               -999.0   \n",
       "2021-12-31 20:00:00          -999.0          -999.0               -999.0   \n",
       "2021-12-31 21:00:00          -999.0          -999.0               -999.0   \n",
       "2021-12-31 22:00:00          -999.0          -999.0               -999.0   \n",
       "2021-12-31 23:00:00          -999.0          -999.0               -999.0   \n",
       "\n",
       "                       T2M  T2MDEW  T2MWET  QV2M   RH2M  PRECTOTCORR      PS  \\\n",
       "time                                                                           \n",
       "2021-01-01 00:00:00   9.80   -2.81    3.50  3.11  40.94          0.0  100.23   \n",
       "2021-01-01 01:00:00   9.29   -3.38    2.95  2.93  40.50          0.0  100.21   \n",
       "2021-01-01 02:00:00   8.80   -3.90    2.45  2.81  40.19          0.0  100.19   \n",
       "2021-01-01 03:00:00   8.38   -4.27    2.06  2.75  40.12          0.0  100.18   \n",
       "2021-01-01 04:00:00   8.19   -4.61    1.79  2.69  39.62          0.0  100.22   \n",
       "...                    ...     ...     ...   ...    ...          ...     ...   \n",
       "2021-12-31 19:00:00  10.56    9.00    9.78  7.14  90.19          0.0  100.79   \n",
       "2021-12-31 20:00:00  10.04    8.61    9.32  6.96  90.94          0.0  100.84   \n",
       "2021-12-31 21:00:00   9.15    7.95    8.55  6.65  92.38          0.0  100.88   \n",
       "2021-12-31 22:00:00   9.20    7.87    8.54  6.59  91.44          0.0  100.85   \n",
       "2021-12-31 23:00:00   9.26    7.89    8.57  6.59  91.31          0.0  100.78   \n",
       "\n",
       "                     WS10M   WD10M  \n",
       "time                                \n",
       "2021-01-01 00:00:00   2.99  317.86  \n",
       "2021-01-01 01:00:00   3.01  322.48  \n",
       "2021-01-01 02:00:00   2.94  325.30  \n",
       "2021-01-01 03:00:00   2.74  326.99  \n",
       "2021-01-01 04:00:00   2.45  325.91  \n",
       "...                    ...     ...  \n",
       "2021-12-31 19:00:00   2.53  259.70  \n",
       "2021-12-31 20:00:00   2.66  262.58  \n",
       "2021-12-31 21:00:00   2.82  265.71  \n",
       "2021-12-31 22:00:00   2.50  271.25  \n",
       "2021-12-31 23:00:00   2.18  280.34  \n",
       "\n",
       "[8760 rows x 18 columns]"
      ]
     },
     "execution_count": 111,
     "metadata": {},
     "output_type": "execute_result"
    }
   ],
   "source": [
    "weather_df"
   ]
  },
  {
   "cell_type": "code",
   "execution_count": 116,
   "id": "09c8f4e1",
   "metadata": {},
   "outputs": [],
   "source": [
    "combine_df = pd.merge(dff, weather_df, left_index=True, right_index=True)"
   ]
  },
  {
   "cell_type": "code",
   "execution_count": 118,
   "id": "13094c93",
   "metadata": {},
   "outputs": [],
   "source": [
    "from  sklearn.preprocessing import MinMaxScaler"
   ]
  },
  {
   "cell_type": "code",
   "execution_count": 129,
   "id": "826c19ea",
   "metadata": {},
   "outputs": [],
   "source": [
    "scaler = MinMaxScaler(feature_range=(0, 1))\n",
    "scaled_df = scaler.fit_transform(combine_df.drop(columns=['PDC(W)'],axis=1,inplace=False))"
   ]
  },
  {
   "cell_type": "code",
   "execution_count": 130,
   "id": "eb528df2",
   "metadata": {},
   "outputs": [
    {
     "data": {
      "text/plain": [
       "(8416, 5)"
      ]
     },
     "execution_count": 130,
     "metadata": {},
     "output_type": "execute_result"
    }
   ],
   "source": [
    "from sklearn.decomposition import PCA\n",
    "pca = PCA(0.95)\n",
    "X = scaled_df\n",
    "X_pca = pca.fit_transform(X)\n",
    "X_pca.shape"
   ]
  },
  {
   "cell_type": "code",
   "execution_count": 131,
   "id": "5edc5fa9",
   "metadata": {},
   "outputs": [
    {
     "data": {
      "text/plain": [
       "array([0.48223952, 0.22532658, 0.15862867, 0.05047717, 0.04193721])"
      ]
     },
     "execution_count": 131,
     "metadata": {},
     "output_type": "execute_result"
    }
   ],
   "source": [
    "pca.explained_variance_ratio_"
   ]
  },
  {
   "cell_type": "code",
   "execution_count": 132,
   "id": "265b215d",
   "metadata": {},
   "outputs": [],
   "source": [
    "input_data = X_pca\n",
    "target_data = combine_df['PDC(W)'].values\n",
    "inp_dim = int(0.7*input_data.shape[0])\n",
    "train_input = input_data[:inp_dim]\n",
    "train_target = target_data[:inp_dim]\n",
    "test_input = input_data[inp_dim:]\n",
    "test_target = target_data[inp_dim:]"
   ]
  },
  {
   "cell_type": "code",
   "execution_count": 134,
   "id": "a9983953",
   "metadata": {},
   "outputs": [],
   "source": [
    "from sklearn.ensemble import RandomForestRegressor\n",
    "from sklearn.metrics import explained_variance_score,mean_squared_error,mean_absolute_percentage_error"
   ]
  },
  {
   "cell_type": "code",
   "execution_count": 135,
   "id": "99f0f95f",
   "metadata": {},
   "outputs": [
    {
     "name": "stdout",
     "output_type": "stream",
     "text": [
      "Wall time: 625 ms\n"
     ]
    },
    {
     "data": {
      "text/plain": [
       "RandomForestRegressor(n_jobs=-1, random_state=42)"
      ]
     },
     "execution_count": 135,
     "metadata": {},
     "output_type": "execute_result"
    }
   ],
   "source": [
    "%%time\n",
    "base_model = RandomForestRegressor(n_jobs=-1, random_state=42)\n",
    "base_model.fit(train_input, train_target)"
   ]
  },
  {
   "cell_type": "code",
   "execution_count": 136,
   "id": "0954e5a0",
   "metadata": {},
   "outputs": [
    {
     "name": "stdout",
     "output_type": "stream",
     "text": [
      "Training set model score....\n"
     ]
    },
    {
     "data": {
      "text/plain": [
       "0.9772773289393092"
      ]
     },
     "execution_count": 136,
     "metadata": {},
     "output_type": "execute_result"
    }
   ],
   "source": [
    "test_result = base_model.predict(test_input)\n",
    "train_result = base_model.predict(train_input)\n",
    "print(f\"Training set model score....\")\n",
    "base_model.score(train_input, train_target)"
   ]
  },
  {
   "cell_type": "code",
   "execution_count": 137,
   "id": "91f83837",
   "metadata": {},
   "outputs": [
    {
     "name": "stdout",
     "output_type": "stream",
     "text": [
      "Test set model score....\n"
     ]
    },
    {
     "data": {
      "text/plain": [
       "0.5815361707548334"
      ]
     },
     "execution_count": 137,
     "metadata": {},
     "output_type": "execute_result"
    }
   ],
   "source": [
    "print(f\"Test set model score....\")\n",
    "base_model.score(test_input, test_target)"
   ]
  },
  {
   "cell_type": "code",
   "execution_count": 139,
   "id": "ae018291",
   "metadata": {},
   "outputs": [
    {
     "name": "stdout",
     "output_type": "stream",
     "text": [
      "test...summary\n",
      "explained_variance_score =0.1448330592646021\n",
      "mean_squared_error =465373.93854636524\n",
      "mean_absolute_percentage_error =854421817169042.9\n"
     ]
    }
   ],
   "source": [
    "def print_summary():\n",
    "    print(f\"test...summary\")\n",
    "    print(f\"explained_variance_score ={explained_variance_score(test_result,test_target)}\")\n",
    "    print(f\"mean_squared_error ={mean_squared_error(test_result,test_target)}\")\n",
    "    print(f\"mean_absolute_percentage_error ={mean_absolute_percentage_error(test_result,test_target)}\")\n",
    "print_summary()"
   ]
  },
  {
   "cell_type": "code",
   "execution_count": null,
   "id": "ffa6873f",
   "metadata": {},
   "outputs": [],
   "source": []
  }
 ],
 "metadata": {
  "kernelspec": {
   "display_name": "Python 3 (ipykernel)",
   "language": "python",
   "name": "python3"
  },
  "language_info": {
   "codemirror_mode": {
    "name": "ipython",
    "version": 3
   },
   "file_extension": ".py",
   "mimetype": "text/x-python",
   "name": "python",
   "nbconvert_exporter": "python",
   "pygments_lexer": "ipython3",
   "version": "3.9.9"
  }
 },
 "nbformat": 4,
 "nbformat_minor": 5
}
