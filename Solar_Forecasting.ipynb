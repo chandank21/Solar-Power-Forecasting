{
 "cells": [
  {
   "cell_type": "code",
   "execution_count": 29,
   "id": "2fca23aa",
   "metadata": {},
   "outputs": [],
   "source": [
    "import numpy as np\n",
    "import pandas as pd"
   ]
  },
  {
   "cell_type": "code",
   "execution_count": 30,
   "id": "2cd9bbc8",
   "metadata": {},
   "outputs": [],
   "source": [
    "def load_data():\n",
    "    raw_df = []\n",
    "    dict_df = pd.read_excel(r'C:\\Users\\SR-19\\Desktop\\Analog_Reports\\Solar data\\GridTieInverterData.xlsx',skiprows=5,parse_dates={'Time':[2]},index_col='Time',skipfooter=1,sheet_name=None)\n",
    "    for key,dframe in dict_df.items():\n",
    "        dframe.drop(dframe.tail(1).index,inplace=True)\n",
    "        raw_df.append(dframe[['PDC(W)']])\n",
    "    raw_df=pd.concat(raw_df)\n",
    "    raw_df.index=pd.to_datetime(raw_df.index,format='%Y-%m-%d %H:%M:%S')\n",
    "    raw_df.sort_index(inplace=True,ascending=False)\n",
    "    return raw_df"
   ]
  },
  {
   "cell_type": "code",
   "execution_count": 4,
   "id": "4ccd664d",
   "metadata": {},
   "outputs": [
    {
     "data": {
      "text/html": [
       "<div>\n",
       "<style scoped>\n",
       "    .dataframe tbody tr th:only-of-type {\n",
       "        vertical-align: middle;\n",
       "    }\n",
       "\n",
       "    .dataframe tbody tr th {\n",
       "        vertical-align: top;\n",
       "    }\n",
       "\n",
       "    .dataframe thead th {\n",
       "        text-align: right;\n",
       "    }\n",
       "</style>\n",
       "<table border=\"1\" class=\"dataframe\">\n",
       "  <thead>\n",
       "    <tr style=\"text-align: right;\">\n",
       "      <th></th>\n",
       "      <th>Temperature(C)</th>\n",
       "      <th>PDC(W)</th>\n",
       "      <th>PAC(W)</th>\n",
       "    </tr>\n",
       "    <tr>\n",
       "      <th>Time</th>\n",
       "      <th></th>\n",
       "      <th></th>\n",
       "      <th></th>\n",
       "    </tr>\n",
       "  </thead>\n",
       "  <tbody>\n",
       "    <tr>\n",
       "      <th>2021-01-01 00:39:32.377</th>\n",
       "      <td>4.6</td>\n",
       "      <td>0.0</td>\n",
       "      <td>0.0</td>\n",
       "    </tr>\n",
       "    <tr>\n",
       "      <th>2021-01-01 00:29:53.340</th>\n",
       "      <td>4.6</td>\n",
       "      <td>0.0</td>\n",
       "      <td>0.0</td>\n",
       "    </tr>\n",
       "    <tr>\n",
       "      <th>2021-01-01 00:20:14.380</th>\n",
       "      <td>4.6</td>\n",
       "      <td>0.0</td>\n",
       "      <td>0.0</td>\n",
       "    </tr>\n",
       "    <tr>\n",
       "      <th>2021-01-01 00:10:35.433</th>\n",
       "      <td>4.6</td>\n",
       "      <td>0.0</td>\n",
       "      <td>0.0</td>\n",
       "    </tr>\n",
       "    <tr>\n",
       "      <th>2021-01-01 00:00:56.390</th>\n",
       "      <td>4.6</td>\n",
       "      <td>0.0</td>\n",
       "      <td>0.0</td>\n",
       "    </tr>\n",
       "  </tbody>\n",
       "</table>\n",
       "</div>"
      ],
      "text/plain": [
       "                         Temperature(C)  PDC(W)  PAC(W)\n",
       "Time                                                   \n",
       "2021-01-01 00:39:32.377             4.6     0.0     0.0\n",
       "2021-01-01 00:29:53.340             4.6     0.0     0.0\n",
       "2021-01-01 00:20:14.380             4.6     0.0     0.0\n",
       "2021-01-01 00:10:35.433             4.6     0.0     0.0\n",
       "2021-01-01 00:00:56.390             4.6     0.0     0.0"
      ]
     },
     "execution_count": 4,
     "metadata": {},
     "output_type": "execute_result"
    }
   ],
   "source": [
    "def load_weather():\n",
    "    weather = pd.read_csv(r'C:\\Users\\SR-19\\Desktop\\Analog_Reports\\kanpur_weather_solar.csv',\n",
    "                             header=24)\n",
    "    LIST=[]\n",
    "    for i in range(weather.shape[0]):\n",
    "        if weather.HR.values[i] < 10:\n",
    "            string = f\"{weather.YEAR.values[i]}-{weather.MO.values[i]}-{weather.DY.values[i]} {0}{weather.HR.values[i]}\"\n",
    "        else:\n",
    "            string = f\"{weather.YEAR.values[i]}-{weather.MO.values[i]}-{weather.DY.values[i]} {weather.HR.values[i]}\"\n",
    "\n",
    "        LIST.append(pd.to_datetime(string,format='%Y-%m-%d %H'))\n",
    "\n",
    "    weather['time']=LIST\n",
    "    weather=weather.set_index(weather['time'],drop=False)\n",
    "    weather.drop(['YEAR','MO','DY','HR','time'],axis=1,inplace=True)\n",
    "    return weather"
   ]
  },
  {
   "cell_type": "code",
   "execution_count": 31,
   "id": "0ef87179",
   "metadata": {},
   "outputs": [],
   "source": [
    "raw_df= load_data()"
   ]
  },
  {
   "cell_type": "code",
   "execution_count": 32,
   "id": "053c38ec",
   "metadata": {},
   "outputs": [],
   "source": [
    "def clean_data(df):\n",
    "    df['datetime'] = [str(index)[0:13] for index in df.index.values]\n",
    "    df = df.groupby('datetime').mean()\n",
    "    df.index=pd.to_datetime(df.index,format='%Y-%m-%d %H')\n",
    "    return df"
   ]
  },
  {
   "cell_type": "code",
   "execution_count": null,
   "id": "868a59cc",
   "metadata": {},
   "outputs": [],
   "source": [
    "def fill_missing(df):\n",
    "    start,end=raw_df.index[0],raw_df.index[-1]\n",
    "    index=pd.date_range(start=start,end=end,freq='1H')\n",
    "    t_df=pd.DataFrame({'val':np.NaN},index=index)\n",
    "    result = raw_df.join(t_df, how=\"outer\").drop(['val'],axis=1)\n",
    "    zero_pow = [19,20,21,22,23,0,1,2,3,4]\n",
    "    for index in result.index:\n",
    "        if index.hour in zero_pow:\n",
    "            result.loc[index]=0\n",
    "        else: \n",
    "    return result"
   ]
  },
  {
   "cell_type": "code",
   "execution_count": null,
   "id": "7d161442",
   "metadata": {},
   "outputs": [],
   "source": []
  }
 ],
 "metadata": {
  "kernelspec": {
   "display_name": "Python 3 (ipykernel)",
   "language": "python",
   "name": "python3"
  },
  "language_info": {
   "codemirror_mode": {
    "name": "ipython",
    "version": 3
   },
   "file_extension": ".py",
   "mimetype": "text/x-python",
   "name": "python",
   "nbconvert_exporter": "python",
   "pygments_lexer": "ipython3",
   "version": "3.9.9"
  }
 },
 "nbformat": 4,
 "nbformat_minor": 5
}
